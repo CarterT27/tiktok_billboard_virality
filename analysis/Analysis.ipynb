{
 "cells": [
  {
   "cell_type": "markdown",
   "id": "3b6d417e-d198-4ec3-a5e8-625a97f7fda1",
   "metadata": {},
   "source": [
    "# Data Collection"
   ]
  },
  {
   "cell_type": "markdown",
   "id": "9bb4c9dd-a5a2-4cc7-ad6a-842fd1491ecd",
   "metadata": {},
   "source": [
    "# Data Wrangling "
   ]
  },
  {
   "cell_type": "markdown",
   "id": "c060b2dc-2853-4f15-aff3-553059de9dd1",
   "metadata": {},
   "source": [
    "# Descriptive and Exploratory Data Analysis"
   ]
  },
  {
   "cell_type": "markdown",
   "id": "894eaf0f-fe37-4525-8ac9-8adbca1f882c",
   "metadata": {},
   "source": [
    "# Data Visualization"
   ]
  },
  {
   "cell_type": "markdown",
   "id": "b3f234c6-05f5-4a13-b00a-e17d6ef90904",
   "metadata": {},
   "source": [
    "# Analysis Type 1"
   ]
  },
  {
   "cell_type": "markdown",
   "id": "3b4cce85-a33d-4083-8b67-71386c2d7fa6",
   "metadata": {},
   "source": [
    "# Analysis Type 2"
   ]
  }
 ],
 "metadata": {
  "kernelspec": {
   "display_name": "Python 3 (ipykernel)",
   "language": "python",
   "name": "python3"
  },
  "language_info": {
   "codemirror_mode": {
    "name": "ipython",
    "version": 3
   },
   "file_extension": ".py",
   "mimetype": "text/x-python",
   "name": "python",
   "nbconvert_exporter": "python",
   "pygments_lexer": "ipython3",
   "version": "3.11.4"
  }
 },
 "nbformat": 4,
 "nbformat_minor": 5
}
